{
 "cells": [
  {
   "cell_type": "markdown",
   "metadata": {},
   "source": [
    "# Taylor approximation"
   ]
  },
  {
   "cell_type": "markdown",
   "metadata": {},
   "source": [
    "## import library"
   ]
  },
  {
   "cell_type": "code",
   "execution_count": 9,
   "metadata": {},
   "outputs": [],
   "source": [
    "%matplotlib inline\n",
    "import numpy as np\n",
    "import matplotlib.pyplot as plt"
   ]
  },
  {
   "cell_type": "markdown",
   "metadata": {},
   "source": [
    "## define my function $f(x)$"
   ]
  },
  {
   "cell_type": "code",
   "execution_count": 37,
   "metadata": {},
   "outputs": [],
   "source": [
    "def myfunction(x):\n",
    "    \n",
    "    y = 1/3*x**3 + 2*x**2 + 1\n",
    "    \n",
    "    return y"
   ]
  },
  {
   "cell_type": "markdown",
   "metadata": {},
   "source": [
    "```git commit -a -m \"define my function\"``` \\\n",
    "```git push origin master```"
   ]
  },
  {
   "cell_type": "markdown",
   "metadata": {},
   "source": [
    "## define derivative of my function $f'(x)$"
   ]
  },
  {
   "cell_type": "code",
   "execution_count": 38,
   "metadata": {},
   "outputs": [],
   "source": [
    "def derivative_myfunction(x):\n",
    "    \n",
    "    y_prime = x**2 +4\n",
    "    \n",
    "    return y_prime"
   ]
  },
  {
   "cell_type": "markdown",
   "metadata": {},
   "source": [
    "```git commit -a -m \"define derivative of my function\"``` \\\n",
    "```git push origin master```"
   ]
  },
  {
   "cell_type": "markdown",
   "metadata": {},
   "source": [
    "## define 1st order Taylor approxation of my function $\\hat{f}(x) = f(a) + f'(a)(x-a)$"
   ]
  },
  {
   "cell_type": "code",
   "execution_count": 39,
   "metadata": {},
   "outputs": [],
   "source": [
    "def taylor(x, a):\n",
    "    \n",
    "    y_approximate = myfunction(a) + derivative_myfunction(a)*(x-a)\n",
    "    \n",
    "    return y_approximate"
   ]
  },
  {
   "cell_type": "markdown",
   "metadata": {},
   "source": [
    "```git commit -a -m \"define Taylor approximation\"``` \\\n",
    "```git push origin master```"
   ]
  },
  {
   "cell_type": "markdown",
   "metadata": {},
   "source": [
    "## define functions for the visualization"
   ]
  },
  {
   "cell_type": "code",
   "execution_count": 52,
   "metadata": {},
   "outputs": [],
   "source": [
    "x = np.linspace(-10,10,100)\n",
    "y = myfunction(x)\n",
    "\n",
    "a = 1\n",
    "b = myfunction(a)\n",
    "\n",
    "t = taylor(x, a)\n",
    "\n",
    "def plot_myfunction(x, y):\n",
    "    \n",
    "    plt.plot(x,y, 'b')\n",
    "    plt.xlim([-10,10])\n",
    "    plt.ylim([-20,20])\n",
    "\n",
    "    plt.show()\n",
    "\n",
    "def plot_myfunction_and_taylor(x, y, t, a, b):\n",
    "    \n",
    "    plt.plot(x,y, 'b')\n",
    "    plt.plot(x,t, 'r')\n",
    "    plt.plot(a,b, 'go')\n",
    "    plt.xlim([-10,10])\n",
    "    plt.ylim([-20,20])\n",
    "    \n",
    "    plt.show()"
   ]
  },
  {
   "cell_type": "markdown",
   "metadata": {},
   "source": [
    "```git commit -a -m \"define functions for the visualization\"``` \\\n",
    "```git push origin master```"
   ]
  },
  {
   "cell_type": "markdown",
   "metadata": {},
   "source": [
    "# ###################################################################"
   ]
  },
  {
   "cell_type": "markdown",
   "metadata": {},
   "source": [
    "# # results"
   ]
  },
  {
   "cell_type": "markdown",
   "metadata": {},
   "source": [
    "# ###################################################################"
   ]
  },
  {
   "cell_type": "markdown",
   "metadata": {},
   "source": [
    "# # 01. plot my function $f(x)$"
   ]
  },
  {
   "cell_type": "code",
   "execution_count": 53,
   "metadata": {},
   "outputs": [
    {
     "data": {
      "image/png": "[encoded data removed]",
      "text/plain": [
       "<Figure size 432x288 with 1 Axes>"
      ]
     },
     "metadata": {
      "needs_background": "light"
     },
     "output_type": "display_data"
    }
   ],
   "source": [
    "plot_myfunction(x, y)"
   ]
  },
  {
   "cell_type": "markdown",
   "metadata": {},
   "source": [
    "# # 02. plot my function $f(x)$ & Taylor approxation $\\hat{f}(x)$"
   ]
  },
  {
   "cell_type": "code",
   "execution_count": 54,
   "metadata": {},
   "outputs": [
    {
     "data": {
      "image/png": "[encoded data removed]",
      "text/plain": [
       "<Figure size 432x288 with 1 Axes>"
      ]
     },
     "metadata": {
      "needs_background": "light"
     },
     "output_type": "display_data"
    }
   ],
   "source": [
    "plot_myfunction_and_taylor(x, y, t, a, b)"
   ]
  },
  {
   "cell_type": "code",
   "execution_count": null,
   "metadata": {},
   "outputs": [],
   "source": []
  }
 ],
 "metadata": {
  "kernelspec": {
   "display_name": "Python 3",
   "language": "python",
   "name": "python3"
  },
  "language_info": {
   "codemirror_mode": {
    "name": "ipython",
    "version": 3
   },
   "file_extension": ".py",
   "mimetype": "text/x-python",
   "name": "python",
   "nbconvert_exporter": "python",
   "pygments_lexer": "ipython3",
   "version": "3.8.8"
  }
 },
 "nbformat": 4,
 "nbformat_minor": 4
}
